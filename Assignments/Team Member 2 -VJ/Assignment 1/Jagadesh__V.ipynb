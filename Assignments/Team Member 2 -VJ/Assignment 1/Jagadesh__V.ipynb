{
  "nbformat": 4,
  "nbformat_minor": 0,
  "metadata": {
    "colab": {
      "provenance": [],
      "collapsed_sections": []
    },
    "kernelspec": {
      "name": "python3",
      "display_name": "Python 3"
    },
    "language_info": {
      "name": "python"
    }
  },
  "cells": [
    {
      "cell_type": "code",
      "execution_count": 16,
      "metadata": {
        "id": "HGX5F8vt68vo",
        "colab": {
          "base_uri": "https://localhost:8080/"
        },
        "outputId": "60bef035-a7cb-4195-ad72-68f324d6c812"
      },
      "outputs": [
        {
          "output_type": "stream",
          "name": "stdout",
          "text": [
            "27\n",
            "27  is Not a prime number\n"
          ]
        }
      ],
      "source": [
        "a=int(input())\n",
        "b=int(a/2)\n",
        "t=0\n",
        "for i in range(2,a):\n",
        "  if(a%i==0):\n",
        "    t+=1\n",
        "if(t==0):\n",
        "  print(a,\" is a prime number \")\n",
        "else:       \n",
        "  print(a,\" is Not a prime number\")\n",
        "   \n"
      ]
    },
    {
      "cell_type": "code",
      "source": [
        "a=int(input())\n",
        "b=1\n",
        "while(b<=a):\n",
        "  if(b%2!=0):\n",
        "    print(b)\n",
        "  b=b+1"
      ],
      "metadata": {
        "colab": {
          "base_uri": "https://localhost:8080/"
        },
        "id": "cYyU2kG77pv0",
        "outputId": "2f10dfa5-fb5f-4750-e918-6cc05d880b7d"
      },
      "execution_count": 18,
      "outputs": [
        {
          "output_type": "stream",
          "name": "stdout",
          "text": [
            "10\n",
            "1\n",
            "3\n",
            "5\n",
            "7\n",
            "9\n"
          ]
        }
      ]
    },
    {
      "cell_type": "code",
      "source": [
        "def isPrime(n):\n",
        "  if(n==1 or n==0):\n",
        "    return False\n",
        "  for i in range(2,n):\n",
        "    if(n%i==0):\n",
        "      return False\n",
        "  return True\n",
        "\n",
        "a =int(input())\n",
        "for i in range(1,a+1):\n",
        "  if(isPrime(i)):\n",
        "    print(i,end=\" \")"
      ],
      "metadata": {
        "colab": {
          "base_uri": "https://localhost:8080/"
        },
        "id": "qu3xvmOU7_6x",
        "outputId": "a42bc802-adf8-4f41-b837-23a24369e1db"
      },
      "execution_count": 20,
      "outputs": [
        {
          "output_type": "stream",
          "name": "stdout",
          "text": [
            "90\n",
            "2 3 5 7 11 13 17 19 23 29 31 37 41 43 47 53 59 61 67 71 73 79 83 89 "
          ]
        }
      ]
    },
    {
      "cell_type": "code",
      "source": [
        "num=int(input())\n",
        "a1, a2 = 0, 1\n",
        "print(\"Fibonacci Series:\", n1, n2, end=\" \")\n",
        "for i in range(2, num):\n",
        "    a3 = a1 + a2\n",
        "    a1 = a2\n",
        "    a2 = a3\n",
        "    print(a3, end=\" \")\n",
        "\n",
        "print()"
      ],
      "metadata": {
        "colab": {
          "base_uri": "https://localhost:8080/"
        },
        "id": "D5-3tSK59IIK",
        "outputId": "86611400-766c-4171-8754-1d19cbf96024"
      },
      "execution_count": 21,
      "outputs": [
        {
          "output_type": "stream",
          "name": "stdout",
          "text": [
            "10\n",
            "Fibonacci Series: 21 34 1 2 3 5 8 13 21 34 \n"
          ]
        }
      ]
    }
  ]
}