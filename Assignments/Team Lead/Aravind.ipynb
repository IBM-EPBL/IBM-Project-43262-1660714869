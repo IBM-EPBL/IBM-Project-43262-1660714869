{
  "cells": [
    {
      "cell_type": "code",
      "execution_count": 1,
      "metadata": {
        "colab": {
          "base_uri": "https://localhost:8080/"
        },
        "id": "pfDklaR9Qdnz",
        "outputId": "82c4ec18-c033-4ffe-fd6d-6251983e9659"
      },
      "outputs": [
        {
          "output_type": "stream",
          "name": "stdout",
          "text": [
            "19\n",
            "19  is a prime number \n"
          ]
        }
      ],
      "source": [
        "n=int(input())\n",
        "c=int(n/2)\n",
        "t=0\n",
        "for i in range(2,n):\n",
        "  if(n%i==0):\n",
        "    t+=1\n",
        "if(t==0):\n",
        "  print(n,\" is a prime number \")\n",
        "else:       \n",
        "  print(n,\" is Not a prime number\")\n",
        "   \n"
      ]
    },
    {
      "cell_type": "code",
      "source": [
        "maximum = int(input(\" Please Enter the Maximum Value : \"))\n",
        "\n",
        "number = 1\n",
        "\n",
        "while number <= maximum:\n",
        "    if(number % 2 != 0):\n",
        "        print(\"{0}\".format(number))\n",
        "    number = number + 1"
      ],
      "metadata": {
        "colab": {
          "base_uri": "https://localhost:8080/"
        },
        "id": "JEd5xLWA1lZH",
        "outputId": "d39b23fe-187b-4c97-a0ac-391169d467ba"
      },
      "execution_count": 3,
      "outputs": [
        {
          "output_type": "stream",
          "name": "stdout",
          "text": [
            " Please Enter the Maximum Value : 19\n",
            "1\n",
            "3\n",
            "5\n",
            "7\n",
            "9\n",
            "11\n",
            "13\n",
            "15\n",
            "17\n",
            "19\n"
          ]
        }
      ]
    },
    {
      "cell_type": "code",
      "source": [
        "def isPrime(n):\n",
        "  if(n==1 or n==0):\n",
        "    return False\n",
        "  for i in range(2,n):\n",
        "    if(n%i==0):\n",
        "      return False\n",
        "  return True\n",
        "\n",
        "N =int(input())\n",
        "for i in range(1,N+1):\n",
        "  if(isPrime(i)):\n",
        "    print(i,end=\" \")"
      ],
      "metadata": {
        "colab": {
          "base_uri": "https://localhost:8080/"
        },
        "id": "uePvdCMyTlA2",
        "outputId": "70141b77-db48-4314-eab6-7567f4b84ab2"
      },
      "execution_count": 4,
      "outputs": [
        {
          "output_type": "stream",
          "name": "stdout",
          "text": [
            "70\n",
            "2 3 5 7 11 13 17 19 23 29 31 37 41 43 47 53 59 61 67 "
          ]
        }
      ]
    },
    {
      "cell_type": "code",
      "source": [
        "num=int(input())\n",
        "n1, n2 = 0, 1\n",
        "print(\"Fibonacci Series:\", n1, n2, end=\" \")\n",
        "for i in range(2, num):\n",
        "    n3 = n1 + n2\n",
        "    n1 = n2\n",
        "    n2 = n3\n",
        "    print(n3, end=\" \")\n",
        "\n",
        "print()"
      ],
      "metadata": {
        "colab": {
          "base_uri": "https://localhost:8080/"
        },
        "id": "mYiUQbvkZwiI",
        "outputId": "ee6ba37b-d83f-4b09-dfd2-c19dff583a5a"
      },
      "execution_count": 5,
      "outputs": [
        {
          "output_type": "stream",
          "name": "stdout",
          "text": [
            "15\n",
            "Fibonacci Series: 0 1 1 2 3 5 8 13 21 34 55 89 144 233 377 \n"
          ]
        }
      ]
    }
  ],
  "metadata": {
    "accelerator": "GPU",
    "colab": {
      "provenance": []
    },
    "gpuClass": "standard",
    "kernelspec": {
      "display_name": "Python 3",
      "name": "python3"
    },
    "language_info": {
      "name": "python"
    }
  },
  "nbformat": 4,
  "nbformat_minor": 0
}