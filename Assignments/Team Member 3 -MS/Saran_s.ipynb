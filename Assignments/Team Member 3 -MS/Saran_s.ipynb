{
  "nbformat": 4,
  "nbformat_minor": 0,
  "metadata": {
    "colab": {
      "provenance": [],
      "collapsed_sections": []
    },
    "kernelspec": {
      "name": "python3",
      "display_name": "Python 3"
    },
    "language_info": {
      "name": "python"
    }
  },
  "cells": [
    {
      "cell_type": "code",
      "execution_count": 10,
      "metadata": {
        "colab": {
          "base_uri": "https://localhost:8080/"
        },
        "id": "HpVO2xq4M9EK",
        "outputId": "7972a6ad-f9e4-4675-f8c9-9855214b7421"
      },
      "outputs": [
        {
          "output_type": "stream",
          "name": "stdout",
          "text": [
            "20\n",
            "20  is Not a prime number\n"
          ]
        }
      ],
      "source": [
        "p=int(input())\n",
        "a=int(p/2)\n",
        "t=0\n",
        "for i in range(2,p):\n",
        "  if(p%i==0):\n",
        "    t+=1\n",
        "if(t==0):\n",
        "  print(p,\" is a prime number \")\n",
        "else:       \n",
        "  print(p,\" is Not a prime number\")\n",
        "   \n"
      ]
    },
    {
      "cell_type": "code",
      "source": [
        "n=int(input())\n",
        "p=1\n",
        "while(p<=n):\n",
        "  if(p%2!=0):\n",
        "    print(p)\n",
        "  p=p+1\n"
      ],
      "metadata": {
        "colab": {
          "base_uri": "https://localhost:8080/"
        },
        "id": "Y_0qlKRRNnKb",
        "outputId": "1cffb3b9-dbba-484c-df2a-4e9a57891809"
      },
      "execution_count": 15,
      "outputs": [
        {
          "output_type": "stream",
          "name": "stdout",
          "text": [
            "20\n",
            "1\n",
            "3\n",
            "5\n",
            "7\n",
            "9\n",
            "11\n",
            "13\n",
            "15\n",
            "17\n",
            "19\n"
          ]
        }
      ]
    },
    {
      "cell_type": "code",
      "source": [
        "def isPrime(a):\n",
        "  if(a==1 or a==0):\n",
        "    return False\n",
        "  for i in range(2,a):\n",
        "    if(a%i==0):\n",
        "      return False\n",
        "  return True\n",
        "\n",
        "b =int(input())\n",
        "for i in range(1,b+1):\n",
        "  if(isPrime(i)):\n",
        "    print(i,end=\" \")"
      ],
      "metadata": {
        "colab": {
          "base_uri": "https://localhost:8080/"
        },
        "id": "OM6aHQPDOK9S",
        "outputId": "eadd597a-b621-4cc2-ea68-a55ad1dc3ae7"
      },
      "execution_count": 20,
      "outputs": [
        {
          "output_type": "stream",
          "name": "stdout",
          "text": [
            "150\n",
            "2 3 5 7 11 13 17 19 23 29 31 37 41 43 47 53 59 61 67 71 73 79 83 89 97 101 103 107 109 113 127 131 137 139 149 "
          ]
        }
      ]
    },
    {
      "cell_type": "code",
      "source": [
        "num=int(input())\n",
        "x1, x2 = 0, 1\n",
        "print(\"Fibonacci Series:\", x1, x2, end=\" \")\n",
        "for i in range(2, num):\n",
        "    x3 = x1 + x2\n",
        "    x1 = x2\n",
        "    x2 = x3\n",
        "    print(x3, end=\" \")\n",
        "\n",
        "print()"
      ],
      "metadata": {
        "colab": {
          "base_uri": "https://localhost:8080/"
        },
        "id": "HqlurPl7OlJX",
        "outputId": "156ef07b-c345-4515-fcd8-58f78e964454"
      },
      "execution_count": 22,
      "outputs": [
        {
          "output_type": "stream",
          "name": "stdout",
          "text": [
            "10\n",
            "Fibonacci Series: 0 1 1 2 3 5 8 13 21 34 \n"
          ]
        }
      ]
    }
  ]
}